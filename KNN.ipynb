{
 "cells": [
  {
   "cell_type": "markdown",
   "id": "dc77c268-0b2c-4272-9b10-044c5c26fd6a",
   "metadata": {},
   "source": [
    "#### Objective of this kernel:\n",
    "* To impliment KNN machine Learning algorithm \n",
    "* To save our model for future use\n",
    "* To measure the accuracy of our model"
   ]
  },
  {
   "cell_type": "markdown",
   "id": "0255cdd7-bc42-4c73-b351-fd64cc6d4ddd",
   "metadata": {
    "jp-MarkdownHeadingCollapsed": true,
    "tags": []
   },
   "source": [
    "### Importing our libraries "
   ]
  },
  {
   "cell_type": "code",
   "execution_count": 46,
   "id": "c9741c7b-55b0-47e2-88f3-ebeb00d80285",
   "metadata": {},
   "outputs": [
    {
     "name": "stdout",
     "output_type": "stream",
     "text": [
      "./output/linearmodel.pickle\n",
      "./output/KNNmodel.pickle\n",
      "./output/processed_data.csv\n",
      "./output/cleaned_data.csv\n",
      "./output/SVMmodel.pickle\n",
      "./output/.ipynb_checkpoints/cleaned_data-checkpoint.csv\n"
     ]
    }
   ],
   "source": [
    "import numpy as np\n",
    "import pandas as pd # data processing, CSV file I/O (e.g. pd.read_csv)\n",
    "import matplotlib.pyplot as plt\n",
    "import seaborn as sns\n",
    "\n",
    "\n",
    "# Input data files are available in the \"../output/\" directory.\n",
    "import os\n",
    "for dirname, _, filenames in os.walk('./output/'):\n",
    "    for filename in filenames:\n",
    "        print(os.path.join(dirname, filename))\n",
    "# Any results you write to the current directory are saved as output."
   ]
  },
  {
   "cell_type": "markdown",
   "id": "f62b501c-b4c1-46cc-a729-44dbfa166da7",
   "metadata": {
    "jp-MarkdownHeadingCollapsed": true,
    "tags": []
   },
   "source": [
    "## Reading the data set"
   ]
  },
  {
   "cell_type": "code",
   "execution_count": 47,
   "id": "0ee65d64-6293-4d03-bf0b-c696ef6b6a90",
   "metadata": {},
   "outputs": [
    {
     "data": {
      "text/plain": [
       "(238, 8)"
      ]
     },
     "execution_count": 47,
     "metadata": {},
     "output_type": "execute_result"
    }
   ],
   "source": [
    "df = pd.read_csv('./output/cleaned_data.csv')\n",
    "df.shape #  describes the shape of our data"
   ]
  },
  {
   "cell_type": "markdown",
   "id": "c6da4e0c-6c09-486c-936f-0442dfcf61dd",
   "metadata": {
    "jp-MarkdownHeadingCollapsed": true,
    "tags": []
   },
   "source": [
    "## we are going to transform all our categorical data to proper format to be fed to our machine learning algorithms\n",
    "* We preprocess our data with the LabelEncoder from sklearn"
   ]
  },
  {
   "cell_type": "markdown",
   "id": "c543d942-92e2-4030-877f-73c36a74463d",
   "metadata": {
    "jp-MarkdownHeadingCollapsed": true,
    "tags": []
   },
   "source": [
    "#### Preprocessing our independent variable x and dependent variable y"
   ]
  },
  {
   "cell_type": "code",
   "execution_count": 48,
   "id": "59655367-bd7f-4a39-a583-ed3c88ae403b",
   "metadata": {},
   "outputs": [],
   "source": [
    "from sklearn.preprocessing import LabelEncoder\n",
    "label_encoder_x=LabelEncoder()\n",
    "#preprocessing x\n",
    "Age=label_encoder_x.fit_transform(list(df[\"Age\"]))\n",
    "Gender=label_encoder_x.fit_transform(list(df[\"Gender\"]))\n",
    "wassce_grade=label_encoder_x.fit_transform(list(df[\"wassce grade\"]))\n",
    "level=label_encoder_x.fit_transform(list(df[\"level\"]))\n",
    "access_to_a_laptop_or_internet=label_encoder_x.fit_transform(list(df[\"access to a laptop or internet\"]))\n",
    "study_group=label_encoder_x.fit_transform(list(df[\"study group\"]))\n",
    "time_spent_on_independent_studies=label_encoder_x.fit_transform(list(df[\"time spent on independent studies\"]))\n",
    "\n",
    "current_CGPA=label_encoder_x.fit_transform(list(df[\"current CGPA\"]))\n",
    "\n",
    "\n",
    "x=list(zip(Age,Gender,wassce_grade,access_to_a_laptop_or_internet,study_group,time_spent_on_independent_studies,))\n",
    "y=list(current_CGPA)"
   ]
  },
  {
   "cell_type": "markdown",
   "id": "5c7a7b0c-d088-48ec-8e64-7b1eb99f1b80",
   "metadata": {
    "tags": []
   },
   "source": [
    "## Lets start implimenting our KNN machine learning algorithm on our dataset"
   ]
  },
  {
   "cell_type": "markdown",
   "id": "748b4b0c-a166-4263-af6e-6d3ec788b951",
   "metadata": {
    "tags": []
   },
   "source": [
    "### Fitting the training data"
   ]
  },
  {
   "cell_type": "code",
   "execution_count": 75,
   "id": "2a056c1f-87c1-4c23-945f-c563433ea08a",
   "metadata": {},
   "outputs": [],
   "source": [
    "from sklearn.model_selection import train_test_split \n",
    "import pickle # This is used to save our model to be used in the future \n",
    "# we split our data into training and testing dataset\n",
    "# x_train,x_test,y_train,y_test=train_test_split(x,y,test_size=0.1)\n",
    "from sklearn.preprocessing import StandardScaler # to scale our data \n",
    "scaler = StandardScaler()\n",
    "scaler.fit(x_train)\n",
    "x_train = scaler.transform(x_train)\n",
    "x_test = scaler.transform(x_test)"
   ]
  },
  {
   "cell_type": "markdown",
   "id": "414d9e65-9872-4501-8d60-0bd377fbd990",
   "metadata": {
    "jp-MarkdownHeadingCollapsed": true,
    "tags": []
   },
   "source": [
    "### Initializing the KNN Regressor "
   ]
  },
  {
   "cell_type": "code",
   "execution_count": 139,
   "id": "680c03ca-d63c-48a5-9fed-0bf795ce7cae",
   "metadata": {},
   "outputs": [
    {
     "name": "stdout",
     "output_type": "stream",
     "text": [
      "0.518438331854481\n"
     ]
    }
   ],
   "source": [
    "# importing KNeighborsRegressor\n",
    "from sklearn.neighbors import KNeighborsRegressor\n",
    "best = 0\n",
    "for k in range(2,22):\n",
    "    x_train,x_test,y_train,y_test=train_test_split(x,y,test_size=0.1)\n",
    "    regressor = KNeighborsRegressor(n_neighbors = k, metric = 'minkowski', p = 2)\n",
    "    regressor.fit(x_train, y_train)\n",
    "    regressor_score = regressor.score(x_test,y_test)\n",
    "    if regressor_score > best:\n",
    "        best = KNN_score\n",
    "        with open(\"./output/KNNmodel.pickle\",\"wb\") as f:\n",
    "            pickle.dump(classifier,f)\n",
    "print(regressor_score)"
   ]
  },
  {
   "cell_type": "markdown",
   "id": "9b5168b2-324d-43a8-bdc2-7b47e135642d",
   "metadata": {
    "tags": []
   },
   "source": [
    "### Predicting the classes for test set"
   ]
  },
  {
   "cell_type": "code",
   "execution_count": 154,
   "id": "9ced3101-7aa6-41c3-9a82-a23ac5a20acf",
   "metadata": {},
   "outputs": [
    {
     "name": "stdout",
     "output_type": "stream",
     "text": [
      "Predicted Value: [2 3 2 2 3 2 4 2 4 3 4 4 4 2 2 4 2 3 2 2 2 2 2 3]\n"
     ]
    }
   ],
   "source": [
    "import warnings\n",
    "warnings.filterwarnings('ignore') \n",
    "Y_pred = linear.predict(x_test)\n",
    "\n",
    "y_pred = np.round_(Y_pred, decimals=0, out=None)\n",
    "    \n",
    "print (\"Predicted Value:\",y_pred)"
   ]
  },
  {
   "cell_type": "markdown",
   "id": "9b418362-c12d-42bc-9280-b984ba8db466",
   "metadata": {
    "tags": []
   },
   "source": [
    "### Calculating the accuracy of the predictions"
   ]
  },
  {
   "cell_type": "code",
   "execution_count": 143,
   "id": "4f8f853d-a86e-46a8-9666-18fdd616191f",
   "metadata": {},
   "outputs": [
    {
     "name": "stdout",
     "output_type": "stream",
     "text": [
      "The mean_squared_error of the KNN is: 0.4807256235827664\n",
      "mean_squared_log_error of the KNN is: 0.038404032686482036\n"
     ]
    }
   ],
   "source": [
    "from sklearn.metrics import mean_squared_error,mean_squared_log_error,confusion_matrix\n",
    "print(\"The mean_squared_error of the KNN is: {}\".format(mean_squared_error(y_test, y_pred)))\n",
    "print(\"mean_squared_log_error of the KNN is: {}\".format(mean_squared_log_error(y_test, y_pred)))"
   ]
  },
  {
   "cell_type": "code",
   "execution_count": null,
   "id": "9b551a3e-8d5c-4a01-80a2-f8958c3ab1d5",
   "metadata": {},
   "outputs": [],
   "source": [
    "names = =[\"First class\",\"Second class upper\",\"Second class lower\",\"Third class\"]\n",
    "\n",
    "    4.0 - 3.6 : First class\n",
    "    3.5 - 3.0 : Second class upper\n",
    "    2.9 - 2.5 : Second class lower\n",
    "    2.4 - 2.0 : Third class\n",
    "    1.9 - 1.5 : Pass\n",
    "    Below 1.5 : Fail\n"
   ]
  },
  {
   "cell_type": "markdown",
   "id": "a37df184-4bc2-4749-8dc9-ed3b348a869a",
   "metadata": {},
   "source": [
    "#### loading linear KNN model so we dont have to rerun our algorithm "
   ]
  },
  {
   "cell_type": "code",
   "execution_count": 146,
   "id": "308729f8-bf0c-48ed-940a-143a0de3cb97",
   "metadata": {},
   "outputs": [],
   "source": [
    "pickle_in = open(\"./output/KNNmodel.pickle\",\"rb\")\n",
    "linear = pickle.load(pickle_in)"
   ]
  },
  {
   "cell_type": "code",
   "execution_count": null,
   "id": "35434e86-7d9a-4b75-a9ef-d45f334623f1",
   "metadata": {},
   "outputs": [],
   "source": []
  }
 ],
 "metadata": {
  "kernelspec": {
   "display_name": "Python 3 (ipykernel)",
   "language": "python",
   "name": "python3"
  },
  "language_info": {
   "codemirror_mode": {
    "name": "ipython",
    "version": 3
   },
   "file_extension": ".py",
   "mimetype": "text/x-python",
   "name": "python",
   "nbconvert_exporter": "python",
   "pygments_lexer": "ipython3",
   "version": "3.9.13"
  }
 },
 "nbformat": 4,
 "nbformat_minor": 5
}
