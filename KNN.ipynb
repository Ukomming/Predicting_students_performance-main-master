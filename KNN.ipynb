{
 "cells": [
  {
   "cell_type": "markdown",
   "id": "dc77c268-0b2c-4272-9b10-044c5c26fd6a",
   "metadata": {},
   "source": [
    "#### Objective of this kernel:\n",
    "* to further explore the data\n",
    "* To clean the out put the Dataset to be fed into the various machine algorithms"
   ]
  },
  {
   "cell_type": "code",
   "execution_count": 8,
   "id": "c9741c7b-55b0-47e2-88f3-ebeb00d80285",
   "metadata": {},
   "outputs": [
    {
     "name": "stdout",
     "output_type": "stream",
     "text": [
      "./output/linearmodel.pickle\n",
      "./output/processed_data.csv\n",
      "./output/cleaned_data.csv\n",
      "./output/.ipynb_checkpoints/cleaned_data-checkpoint.csv\n"
     ]
    }
   ],
   "source": [
    "import numpy as np\n",
    "import pandas as pd # data processing, CSV file I/O (e.g. pd.read_csv)\n",
    "import matplotlib.pyplot as plt\n",
    "import seaborn as sns\n",
    "\n",
    "\n",
    "# Input data files are available in the \"../output/\" directory.\n",
    "import os\n",
    "for dirname, _, filenames in os.walk('./output/'):\n",
    "    for filename in filenames:\n",
    "        print(os.path.join(dirname, filename))\n",
    "# Any results you write to the current directory are saved as output."
   ]
  },
  {
   "cell_type": "markdown",
   "id": "f62b501c-b4c1-46cc-a729-44dbfa166da7",
   "metadata": {},
   "source": [
    "## Reading the data set"
   ]
  },
  {
   "cell_type": "code",
   "execution_count": 2,
   "id": "0ee65d64-6293-4d03-bf0b-c696ef6b6a90",
   "metadata": {},
   "outputs": [
    {
     "data": {
      "text/plain": [
       "(238, 8)"
      ]
     },
     "execution_count": 2,
     "metadata": {},
     "output_type": "execute_result"
    }
   ],
   "source": [
    "df = pd.read_csv('./output/cleaned_data.csv')\n",
    "df.shape"
   ]
  },
  {
   "cell_type": "markdown",
   "id": "c6da4e0c-6c09-486c-936f-0442dfcf61dd",
   "metadata": {
    "tags": []
   },
   "source": [
    "## we are going to transform all our categorical data to proper format to be fed to our machine learning algorithms\n",
    "* We preprocess our data with the LabelEncoder from sklearn"
   ]
  },
  {
   "cell_type": "markdown",
   "id": "c543d942-92e2-4030-877f-73c36a74463d",
   "metadata": {},
   "source": [
    "#### Preprocessing our independent variable x"
   ]
  },
  {
   "cell_type": "code",
   "execution_count": 3,
   "id": "840853ed-5fa7-4b6b-98a3-46a587cf291e",
   "metadata": {},
   "outputs": [],
   "source": [
    "y= df[[\"current CGPA\"]].values\n",
    "x =df[[\"Age\",\"Gender\",\"wassce grade\",\"level\",\"access to a laptop or internet\",\"study group\",\"time spent on independent studies\"]].values"
   ]
  },
  {
   "cell_type": "code",
   "execution_count": 13,
   "id": "59655367-bd7f-4a39-a583-ed3c88ae403b",
   "metadata": {},
   "outputs": [
    {
     "data": {
      "text/plain": [
       "dtype('int64')"
      ]
     },
     "execution_count": 13,
     "metadata": {},
     "output_type": "execute_result"
    }
   ],
   "source": [
    "from sklearn.preprocessing import LabelEncoder\n",
    "label_encoder_x = LabelEncoder()\n",
    "x[:,0] =label_encoder_x.fit_transform(x[:,0])\n",
    "x[:,1] =label_encoder_x.fit_transform(x[:,1])\n",
    "x[:,2] =label_encoder_x.fit_transform(x[:,2])\n",
    "x[:,3] =label_encoder_x.fit_transform(x[:,3])\n",
    "x[:,4] =label_encoder_x.fit_transform(x[:,4])\n",
    "x[:,5] =label_encoder_x.fit_transform(x[:,5])\n",
    "x[:,6] =label_encoder_x.fit_transform(x[:,6])\n",
    "x.dtype\n",
    "x=x.astype('int')\n",
    "x.dtype"
   ]
  },
  {
   "cell_type": "markdown",
   "id": "e942444f-f73e-4930-89d7-080d08728e0d",
   "metadata": {},
   "source": [
    "#### Preocessing our dependent variable y"
   ]
  },
  {
   "cell_type": "code",
   "execution_count": 5,
   "id": "30329e73-942c-4da6-ab8b-4586676c93ce",
   "metadata": {},
   "outputs": [
    {
     "data": {
      "text/plain": [
       "dtype('int64')"
      ]
     },
     "execution_count": 14,
     "metadata": {},
     "output_type": "execute_result"
    }
   ],
   "source": [
    "y[:,0] =label_encoder_x.fit_transform(y[:,0])\n",
    "y.dtype\n",
    "y=x.astype('int')\n",
    "y.dtype"
   ]
  },
  {
   "cell_type": "markdown",
   "id": "5c7a7b0c-d088-48ec-8e64-7b1eb99f1b80",
   "metadata": {},
   "source": [
    "# Lets start implementing our machine learning algorithms"
   ]
  },
  {
   "cell_type": "code",
   "execution_count": 6,
   "id": "c8e2e988-2f7a-4db4-bf60-27b9129af68b",
   "metadata": {},
   "outputs": [],
   "source": [
    "from sklearn.model_selection import train_test_split\n",
    "import pickle\n",
    "x_train,x_test,y_train,y_test=train_test_split(x,y,test_size=0.4)\n",
    "\n",
    "# x_train"
   ]
  },
  {
   "cell_type": "code",
   "execution_count": 7,
   "id": "680c03ca-d63c-48a5-9fed-0bf795ce7cae",
   "metadata": {},
   "outputs": [],
   "source": [
    "# importing KNeighborsClassifier\n",
    "from sklearn.neighbors import KNeighborsClassifier"
   ]
  },
  {
   "cell_type": "code",
   "execution_count": null,
   "id": "3edbe786-2e8a-4b52-9b17-ba7e5d05ede2",
   "metadata": {},
   "outputs": [],
   "source": []
  },
  {
   "cell_type": "code",
   "execution_count": null,
   "id": "f6601109-ca13-44cc-83a6-b3e1a00b50e6",
   "metadata": {},
   "outputs": [],
   "source": []
  }
 ],
 "metadata": {
  "kernelspec": {
   "display_name": "Python 3 (ipykernel)",
   "language": "python",
   "name": "python3"
  },
  "language_info": {
   "codemirror_mode": {
    "name": "ipython",
    "version": 3
   },
   "file_extension": ".py",
   "mimetype": "text/x-python",
   "name": "python",
   "nbconvert_exporter": "python",
   "pygments_lexer": "ipython3",
   "version": "3.9.13"
  }
 },
 "nbformat": 4,
 "nbformat_minor": 5
}
