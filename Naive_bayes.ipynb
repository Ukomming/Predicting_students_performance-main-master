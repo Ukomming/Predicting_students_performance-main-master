{
 "cells": [
  {
   "cell_type": "markdown",
   "id": "db3eff85-bf10-4b04-8966-b68731c97e37",
   "metadata": {},
   "source": [
    "#### Objective of this kernel:\n",
    "* to further explore the data\n",
    "* To clean the out put the Dataset to be fed into the various machine algorithms"
   ]
  },
  {
   "cell_type": "markdown",
   "id": "8e4dee8d-96fa-40d2-9988-e191abb5dcb0",
   "metadata": {
    "tags": []
   },
   "source": [
    "### Importing our libraries "
   ]
  },
  {
   "cell_type": "code",
   "execution_count": 2,
   "id": "9c916bc5-3f38-4c3c-a98b-8ed4e1cdcdb4",
   "metadata": {},
   "outputs": [
    {
     "name": "stdout",
     "output_type": "stream",
     "text": [
      "./output/linearmodel.pickle\n",
      "./output/naive_bayes.pickle\n",
      "./output/KNNmodel.pickle\n",
      "./output/processed_data.csv\n",
      "./output/cleaned_data.csv\n",
      "./output/Logregmodel.pickle\n",
      "./output/SVMmodel.pickle\n",
      "./output/.ipynb_checkpoints/cleaned_data-checkpoint.csv\n"
     ]
    }
   ],
   "source": [
    "import numpy as np\n",
    "import pandas as pd # data processing, CSV file I/O (e.g. pd.read_csv)\n",
    "import matplotlib.pyplot as plt\n",
    "import seaborn as sns\n",
    "\n",
    "\n",
    "# Input data files are available in the \"../output/\" directory.\n",
    "import os\n",
    "for dirname, _, filenames in os.walk('./output/'):\n",
    "    for filename in filenames:\n",
    "        print(os.path.join(dirname, filename))\n",
    "# Any results you write to the current directory are saved as output."
   ]
  },
  {
   "cell_type": "markdown",
   "id": "027d4d82-f568-4c2b-a436-b5f71b8ac229",
   "metadata": {
    "tags": []
   },
   "source": [
    "## Reading the data set"
   ]
  },
  {
   "cell_type": "code",
   "execution_count": 3,
   "id": "0a8128b8-cc41-4a2c-b9a6-2ef6831cd598",
   "metadata": {},
   "outputs": [
    {
     "data": {
      "text/html": [
       "<div>\n",
       "<style scoped>\n",
       "    .dataframe tbody tr th:only-of-type {\n",
       "        vertical-align: middle;\n",
       "    }\n",
       "\n",
       "    .dataframe tbody tr th {\n",
       "        vertical-align: top;\n",
       "    }\n",
       "\n",
       "    .dataframe thead th {\n",
       "        text-align: right;\n",
       "    }\n",
       "</style>\n",
       "<table border=\"1\" class=\"dataframe\">\n",
       "  <thead>\n",
       "    <tr style=\"text-align: right;\">\n",
       "      <th></th>\n",
       "      <th>Age</th>\n",
       "      <th>Gender</th>\n",
       "      <th>wassce grade</th>\n",
       "      <th>level</th>\n",
       "      <th>current CGPA</th>\n",
       "      <th>access to a laptop or internet</th>\n",
       "      <th>study group</th>\n",
       "      <th>time spent on independent studies</th>\n",
       "    </tr>\n",
       "  </thead>\n",
       "  <tbody>\n",
       "    <tr>\n",
       "      <th>0</th>\n",
       "      <td>23 - 27 years</td>\n",
       "      <td>Male</td>\n",
       "      <td>16 - 20</td>\n",
       "      <td>L 400</td>\n",
       "      <td>2.9 - 2.5</td>\n",
       "      <td>Yes</td>\n",
       "      <td>Yes</td>\n",
       "      <td>More than 2 hours</td>\n",
       "    </tr>\n",
       "    <tr>\n",
       "      <th>1</th>\n",
       "      <td>23 - 27 years</td>\n",
       "      <td>Male</td>\n",
       "      <td>6 - 9</td>\n",
       "      <td>L 400</td>\n",
       "      <td>1.9 - 1.5</td>\n",
       "      <td>Yes</td>\n",
       "      <td>Yes</td>\n",
       "      <td>More than 2 hours</td>\n",
       "    </tr>\n",
       "    <tr>\n",
       "      <th>2</th>\n",
       "      <td>23 - 27 years</td>\n",
       "      <td>Male</td>\n",
       "      <td>10 - 15</td>\n",
       "      <td>L 400</td>\n",
       "      <td>3.5 - 3.0</td>\n",
       "      <td>Yes</td>\n",
       "      <td>Yes</td>\n",
       "      <td>Less than 2 hours</td>\n",
       "    </tr>\n",
       "    <tr>\n",
       "      <th>3</th>\n",
       "      <td>23 - 27 years</td>\n",
       "      <td>Female</td>\n",
       "      <td>10 - 15</td>\n",
       "      <td>L 400</td>\n",
       "      <td>2.9 - 2.5</td>\n",
       "      <td>Yes</td>\n",
       "      <td>Yes</td>\n",
       "      <td>More than 2 hours</td>\n",
       "    </tr>\n",
       "    <tr>\n",
       "      <th>4</th>\n",
       "      <td>23 - 27 years</td>\n",
       "      <td>Female</td>\n",
       "      <td>10 - 15</td>\n",
       "      <td>L 400</td>\n",
       "      <td>2.9 - 2.5</td>\n",
       "      <td>Yes</td>\n",
       "      <td>Yes</td>\n",
       "      <td>More than 2 hours</td>\n",
       "    </tr>\n",
       "  </tbody>\n",
       "</table>\n",
       "</div>"
      ],
      "text/plain": [
       "             Age  Gender wassce grade  level current CGPA  \\\n",
       "0  23 - 27 years    Male      16 - 20  L 400    2.9 - 2.5   \n",
       "1  23 - 27 years    Male        6 - 9  L 400    1.9 - 1.5   \n",
       "2  23 - 27 years    Male      10 - 15  L 400    3.5 - 3.0   \n",
       "3  23 - 27 years  Female      10 - 15  L 400    2.9 - 2.5   \n",
       "4  23 - 27 years  Female      10 - 15  L 400    2.9 - 2.5   \n",
       "\n",
       "  access to a laptop or internet study group time spent on independent studies  \n",
       "0                            Yes         Yes                 More than 2 hours  \n",
       "1                            Yes         Yes                 More than 2 hours  \n",
       "2                            Yes         Yes                 Less than 2 hours  \n",
       "3                            Yes         Yes                 More than 2 hours  \n",
       "4                            Yes         Yes                 More than 2 hours  "
      ]
     },
     "execution_count": 3,
     "metadata": {},
     "output_type": "execute_result"
    }
   ],
   "source": [
    "df = pd.read_csv('./output/cleaned_data.csv')\n",
    "df.head()"
   ]
  },
  {
   "cell_type": "markdown",
   "id": "45f5d7fa-ca61-4f27-944d-15cdd7b90218",
   "metadata": {
    "tags": []
   },
   "source": [
    "## we are going to transform all our categorical data to proper format to be fed to our machine learning algorithms\n",
    "* We preprocess our data with the LabelEncoder from sklearn"
   ]
  },
  {
   "cell_type": "markdown",
   "id": "3f3e0fb4-102d-4758-aae7-5ce58060f80b",
   "metadata": {
    "tags": []
   },
   "source": [
    "#### Preprocessing our independent variable x and our dependent variable y"
   ]
  },
  {
   "cell_type": "code",
   "execution_count": 4,
   "id": "6dec54ef-4018-4b57-9bde-19db4ebe7a0c",
   "metadata": {},
   "outputs": [],
   "source": [
    "from sklearn.preprocessing import LabelEncoder\n",
    "label_encoder_x=LabelEncoder()\n",
    "#preprocessing x\n",
    "Age=label_encoder_x.fit_transform(list(df[\"Age\"]))\n",
    "Gender=label_encoder_x.fit_transform(list(df[\"Gender\"]))\n",
    "wassce_grade=label_encoder_x.fit_transform(list(df[\"wassce grade\"]))\n",
    "level=label_encoder_x.fit_transform(list(df[\"level\"]))\n",
    "access_to_a_laptop_or_internet=label_encoder_x.fit_transform(list(df[\"access to a laptop or internet\"]))\n",
    "study_group=label_encoder_x.fit_transform(list(df[\"study group\"]))\n",
    "time_spent_on_independent_studies=label_encoder_x.fit_transform(list(df[\"time spent on independent studies\"]))\n",
    "\n",
    "current_CGPA=label_encoder_x.fit_transform(list(df[\"current CGPA\"]))\n",
    "\n",
    "\n",
    "x=list(zip(Age,Gender,wassce_grade,access_to_a_laptop_or_internet,study_group,time_spent_on_independent_studies,))\n",
    "y=list(current_CGPA)"
   ]
  },
  {
   "cell_type": "markdown",
   "id": "a2eedd42-e37d-412b-9fbc-a3d1b9acecfd",
   "metadata": {},
   "source": [
    "# Lets start implementing our machine learning algorithms"
   ]
  },
  {
   "cell_type": "markdown",
   "id": "3abc80d3-b43f-42cd-89d8-e7dd94e0d479",
   "metadata": {
    "tags": []
   },
   "source": [
    "### Fitting the training data"
   ]
  },
  {
   "cell_type": "code",
   "execution_count": 5,
   "id": "16490ad1-0d3c-4738-bf9a-e8f242c763da",
   "metadata": {},
   "outputs": [],
   "source": [
    "from sklearn.model_selection import train_test_split\n",
    "import pickle\n",
    "# we split our data into training and testing dataset\n",
    "x_train,x_test,y_train,y_test=train_test_split(x,y,test_size=0.1)\n",
    "from sklearn.preprocessing import StandardScaler # to scale our data \n",
    "scaler = StandardScaler()\n",
    "scaler.fit(x_train)\n",
    "x_train = scaler.transform(x_train)\n",
    "x_test = scaler.transform(x_test)"
   ]
  },
  {
   "cell_type": "markdown",
   "id": "23297a2e-4c9a-4c44-8aa0-e4d933e189cb",
   "metadata": {},
   "source": [
    "### Impleamenting the Naive Bayes algorithm\n"
   ]
  },
  {
   "cell_type": "code",
   "execution_count": 295,
   "id": "9a719382-ab2c-4849-b373-046942103223",
   "metadata": {},
   "outputs": [
    {
     "name": "stdout",
     "output_type": "stream",
     "text": [
      "0.5416666666666666\n"
     ]
    }
   ],
   "source": [
    "#Import Gaussian Naive Bayes model\n",
    "from sklearn.naive_bayes import GaussianNB\n",
    "best = 0\n",
    "for _ in range(100):\n",
    "    x_train,x_test,y_train,y_test=train_test_split(x,y,test_size=0.1)\n",
    "    #Create a Gaussian Classifier\n",
    "    bayes_model = GaussianNB()\n",
    "    # Train the model using the training sets\n",
    "    bayes_model.fit(x_train,y_train)\n",
    "    bayes_score =bayes_model.score(x_test,y_test)\n",
    "    if bayes_score > best:\n",
    "        best = bayes_score\n",
    "        with open(\"./output/naive_bayes.pickle\",\"wb\") as f:\n",
    "            pickle.dump(bayes_model,f)\n",
    "print(best)"
   ]
  },
  {
   "cell_type": "code",
   "execution_count": 299,
   "id": "5db4a88c-73c0-4455-9be0-186efb2ecd06",
   "metadata": {},
   "outputs": [
    {
     "name": "stdout",
     "output_type": "stream",
     "text": [
      "Predicted Value: [4 2 0 2 0 4 0 3 0 4 0 0 2 0 3 4 3 0 3 0 3 0 0 0]\n"
     ]
    }
   ],
   "source": [
    "#Predict Output\n",
    "y_pred= bayes_model.predict(x_test)\n",
    "print (\"Predicted Value:\", y_pred)"
   ]
  },
  {
   "cell_type": "markdown",
   "id": "35f7f0fd-d129-46ab-9f19-0064d64021fe",
   "metadata": {},
   "source": [
    "## Model Evaluation using Confusion Matrix"
   ]
  },
  {
   "cell_type": "code",
   "execution_count": 300,
   "id": "ef72c113-ee99-4270-8f07-eab9db59fcac",
   "metadata": {},
   "outputs": [
    {
     "name": "stdout",
     "output_type": "stream",
     "text": [
      "\n",
      "Confusion Matrix of naive_bayes:\n",
      "\n",
      "Accuracy of naive_bayes: 20.83%\n",
      "\n",
      "Classification Report of naive_bayes:\n",
      "\n",
      "              precision    recall  f1-score   support\n",
      "\n",
      "           0       0.00      0.00      0.00         1\n",
      "           1       0.00      0.00      0.00         1\n",
      "           2       0.33      0.11      0.17         9\n",
      "           3       0.60      0.30      0.40        10\n",
      "           4       0.25      0.33      0.29         3\n",
      "\n",
      "    accuracy                           0.21        24\n",
      "   macro avg       0.24      0.15      0.17        24\n",
      "weighted avg       0.41      0.21      0.26        24\n",
      "\n"
     ]
    }
   ],
   "source": [
    "import warnings\n",
    "warnings.filterwarnings('ignore') \n",
    "# import the metrics class\n",
    "from sklearn.metrics import accuracy_score, confusion_matrix,classification_report\n",
    "print(\"\\nConfusion Matrix of naive_bayes:\\n\")\n",
    "cnf_matrix = confusion_matrix(y_test, y_pred)\n",
    "cnf_matrix\n",
    "print(\"Accuracy of naive_bayes: {}%\".format(round(accuracy_score(y_test, y_pred)*100,2)))\n",
    "print(\"\\nClassification Report of naive_bayes:\\n\")\n",
    "print(classification_report(y_test, y_pred))"
   ]
  },
  {
   "cell_type": "markdown",
   "id": "c635ec65-150d-47e7-b3c8-bd04fa0641a8",
   "metadata": {},
   "source": [
    "#### Visualizing Confusion Matrix using Heatmap"
   ]
  },
  {
   "cell_type": "code",
   "execution_count": 301,
   "id": "6f9ac72f-15d0-4413-bb1d-964c187b9320",
   "metadata": {},
   "outputs": [
    {
     "data": {
      "text/plain": [
       "Text(0.5, 427.9555555555555, 'Predicted label')"
      ]
     },
     "execution_count": 301,
     "metadata": {},
     "output_type": "execute_result"
    },
    {
     "data": {
      "image/png": "[encoded data removed]",
      "text/plain": [
       "<Figure size 640x480 with 2 Axes>"
      ]
     },
     "metadata": {},
     "output_type": "display_data"
    }
   ],
   "source": [
    "class_names=[0,1] # name  of classes\n",
    "fig, ax = plt.subplots()\n",
    "tick_marks = np.arange(len(class_names))\n",
    "plt.xticks(tick_marks, class_names)\n",
    "plt.yticks(tick_marks, class_names)\n",
    "# create heatmap\n",
    "sns.heatmap(pd.DataFrame(cnf_matrix), annot=True, cmap=\"YlGnBu\" ,fmt='g')\n",
    "ax.xaxis.set_label_position(\"top\")\n",
    "plt.tight_layout()\n",
    "plt.title('Confusion matrix', y=1.1)\n",
    "plt.ylabel('Actual label')\n",
    "plt.xlabel('Predicted label')\n"
   ]
  },
  {
   "cell_type": "code",
   "execution_count": 302,
   "id": "c392b092-529e-41a7-aba8-9a75f40898d3",
   "metadata": {},
   "outputs": [
    {
     "name": "stdout",
     "output_type": "stream",
     "text": [
      "The mean_squared_error of the linnear regression is: 5.083333333333333\n",
      "mean_squared_log_error of the linnear regression is: 1.0057540418783455\n"
     ]
    }
   ],
   "source": [
    "from sklearn.metrics import mean_squared_error,mean_squared_log_error\n",
    "print(\"The mean_squared_error of the linnear regression is: {}\".format(mean_squared_error(y_test, y_pred)))\n",
    "print(\"mean_squared_log_error of the linnear regression is: {}\".format(mean_squared_log_error(y_test, y_pred)))\n",
    "# outputting more info about our linear regression model\n"
   ]
  },
  {
   "cell_type": "markdown",
   "id": "a819e952-2ec3-4105-903b-83fa05b86f94",
   "metadata": {},
   "source": [
    "#### loading Svm model so we dont have to rerun our algorithm "
   ]
  },
  {
   "cell_type": "code",
   "execution_count": 303,
   "id": "4545b887-48fd-43f4-a456-9d86e126f910",
   "metadata": {},
   "outputs": [],
   "source": [
    "pickle_in = open(\"./output/naive_bayes.pickle\",\"rb\")\n",
    "bayes_model = pickle.load(pickle_in)"
   ]
  },
  {
   "cell_type": "code",
   "execution_count": null,
   "id": "47ac8a91-e0de-4da3-8e6f-de0ac1c99c6e",
   "metadata": {},
   "outputs": [],
   "source": []
  }
 ],
 "metadata": {
  "kernelspec": {
   "display_name": "Python 3 (ipykernel)",
   "language": "python",
   "name": "python3"
  },
  "language_info": {
   "codemirror_mode": {
    "name": "ipython",
    "version": 3
   },
   "file_extension": ".py",
   "mimetype": "text/x-python",
   "name": "python",
   "nbconvert_exporter": "python",
   "pygments_lexer": "ipython3",
   "version": "3.9.13"
  }
 },
 "nbformat": 4,
 "nbformat_minor": 5
}
