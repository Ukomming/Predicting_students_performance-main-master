{
 "cells": [
  {
   "cell_type": "markdown",
   "id": "2c036eee-88e0-4a72-8c5c-fc75bca92520",
   "metadata": {
    "tags": []
   },
   "source": [
    "#### Objective of this kernel:\n",
    "* To implement svm machine learning algorithm\n",
    "* To save our model \n",
    "* To  measure the accuracy of the model"
   ]
  },
  {
   "cell_type": "markdown",
   "id": "1d6b9d9f-99fb-4d9e-92b3-9a66421aea66",
   "metadata": {
    "tags": []
   },
   "source": [
    "## Importing our libraries "
   ]
  },
  {
   "cell_type": "code",
   "execution_count": 22,
   "id": "5d8b50f5-70f0-4fe9-b153-836ac122c0db",
   "metadata": {},
   "outputs": [
    {
     "name": "stdout",
     "output_type": "stream",
     "text": [
      "./output/linearmodel.pickle\n",
      "./output/naive_bayes.pickle\n",
      "./output/KNNmodel.pickle\n",
      "./output/processed_data.csv\n",
      "./output/cleaned_data.csv\n",
      "./output/Logregmodel.pickle\n",
      "./output/SVMmodel.pickle\n",
      "./output/.ipynb_checkpoints/cleaned_data-checkpoint.csv\n"
     ]
    }
   ],
   "source": [
    "import numpy as np\n",
    "import pandas as pd # data processing, CSV file I/O (e.g. pd.read_csv)\n",
    "import matplotlib.pyplot as plt\n",
    "import seaborn as sns\n",
    "\n",
    "\n",
    "# Input data files are available in the \"../output/\" directory.\n",
    "import os\n",
    "for dirname, _, filenames in os.walk('./output/'):\n",
    "    for filename in filenames:\n",
    "        print(os.path.join(dirname, filename))\n",
    "# Any results you write to the current directory are saved as output."
   ]
  },
  {
   "cell_type": "markdown",
   "id": "f60f5900-3a59-4727-8c66-e1411f2a9ff1",
   "metadata": {
    "tags": []
   },
   "source": [
    "## Reading the data set"
   ]
  },
  {
   "cell_type": "code",
   "execution_count": 3,
   "id": "de9ea5fb-a799-48db-ae22-345f50e8d3e3",
   "metadata": {},
   "outputs": [
    {
     "data": {
      "text/plain": [
       "(238, 8)"
      ]
     },
     "execution_count": 3,
     "metadata": {},
     "output_type": "execute_result"
    }
   ],
   "source": [
    "df = pd.read_csv('./output/cleaned_data.csv')\n",
    "df.shape"
   ]
  },
  {
   "cell_type": "markdown",
   "id": "62be6e47-9330-4e07-8778-c83f93d934bf",
   "metadata": {
    "tags": []
   },
   "source": [
    "## we are going to transform all our categorical data to proper format to be fed to our machine learning algorithms\n",
    "* We preprocess our data with the LabelEncoder from sklearn"
   ]
  },
  {
   "cell_type": "markdown",
   "id": "19e01df7-9a15-4639-98d1-6833d1bebc5a",
   "metadata": {
    "tags": []
   },
   "source": [
    "#### Preprocessing our independent variable x and dependent variable y"
   ]
  },
  {
   "cell_type": "code",
   "execution_count": 5,
   "id": "67cef336-1f44-4c08-9fff-fc5ffefed1c6",
   "metadata": {},
   "outputs": [],
   "source": [
    "from sklearn.preprocessing import LabelEncoder\n",
    "label_encoder_x=LabelEncoder()\n",
    "#preprocessing x\n",
    "Age=label_encoder_x.fit_transform(list(df[\"Age\"]))\n",
    "Gender=label_encoder_x.fit_transform(list(df[\"Gender\"]))\n",
    "wassce_grade=label_encoder_x.fit_transform(list(df[\"wassce grade\"]))\n",
    "level=label_encoder_x.fit_transform(list(df[\"level\"]))\n",
    "access_to_a_laptop_or_internet=label_encoder_x.fit_transform(list(df[\"access to a laptop or internet\"]))\n",
    "study_group=label_encoder_x.fit_transform(list(df[\"study group\"]))\n",
    "time_spent_on_independent_studies=label_encoder_x.fit_transform(list(df[\"time spent on independent studies\"]))\n",
    "\n",
    "current_CGPA=label_encoder_x.fit_transform(list(df[\"current CGPA\"]))\n",
    "\n",
    "\n",
    "x=list(zip(Age,Gender,wassce_grade,access_to_a_laptop_or_internet,study_group,time_spent_on_independent_studies,))\n",
    "y=list(current_CGPA)"
   ]
  },
  {
   "cell_type": "markdown",
   "id": "350601c0-7094-4d04-9881-3c469e2b4d2d",
   "metadata": {
    "tags": []
   },
   "source": [
    "# Lets start implementing svm machine learning algorithm on our dataset"
   ]
  },
  {
   "cell_type": "markdown",
   "id": "924641e0-56f3-40bc-89cd-dafb992f0d12",
   "metadata": {
    "tags": []
   },
   "source": [
    "### Fitting the training data"
   ]
  },
  {
   "cell_type": "code",
   "execution_count": 9,
   "id": "e1eaae59-9986-44bb-b533-a16128fb0513",
   "metadata": {},
   "outputs": [],
   "source": [
    "from sklearn.model_selection import train_test_split\n",
    "import pickle\n",
    "x_train,x_test,y_train,y_test=train_test_split(x,y,test_size=0.3)"
   ]
  },
  {
   "cell_type": "markdown",
   "id": "3f4c2f9f-8b32-4a52-9f84-d94f27d4c5af",
   "metadata": {
    "tags": []
   },
   "source": [
    "### Initializing Support Vector Machine and fitting the training data"
   ]
  },
  {
   "cell_type": "code",
   "execution_count": 17,
   "id": "8b255f66-f585-40f7-b7ae-860efd27d65b",
   "metadata": {},
   "outputs": [
    {
     "name": "stdout",
     "output_type": "stream",
     "text": [
      "0.5\n"
     ]
    }
   ],
   "source": [
    "from sklearn.svm import SVC\n",
    "best = 0\n",
    "for r in range(20):\n",
    "    x_train,x_test,y_train,y_test=train_test_split(x,y,test_size=0.1)\n",
    "    classifier = SVC(kernel='rbf', random_state = r)\n",
    "    classifier.fit(x_train,y_train)\n",
    "    classifier_score = classifier.score(x_test,y_test)\n",
    "    if classifier_score > best:\n",
    "        best = classifier_score\n",
    "        with open(\"./output/SVMmodel.pickle\",\"wb\") as f:\n",
    "                pickle.dump(classifier,f)\n",
    "                \n",
    "print(classifier_score)"
   ]
  },
  {
   "cell_type": "markdown",
   "id": "c584abd7-8251-4d56-bb37-3d84d16a7422",
   "metadata": {
    "tags": []
   },
   "source": [
    "### Predicting the classes for test set"
   ]
  },
  {
   "cell_type": "code",
   "execution_count": 18,
   "id": "7ec09b70-d226-4b62-a700-6178c30dae80",
   "metadata": {},
   "outputs": [
    {
     "name": "stdout",
     "output_type": "stream",
     "text": [
      "Predicted Value: [2 2 3 3 2 2 3 2 3 2 2 2 2 2 2 3 2 2 3 3 3 2 2 4]\n"
     ]
    }
   ],
   "source": [
    "y_pred = classifier.predict(x_test)\n",
    "print (\"Predicted Value:\", y_pred)"
   ]
  },
  {
   "cell_type": "markdown",
   "id": "2860ef8c-1f9e-4bac-996b-0e196de168f9",
   "metadata": {
    "tags": []
   },
   "source": [
    "### Calculating the accuracy of the predictions"
   ]
  },
  {
   "cell_type": "code",
   "execution_count": 19,
   "id": "dad86c47-cc2f-4709-b720-e57b016bfb37",
   "metadata": {},
   "outputs": [
    {
     "name": "stdout",
     "output_type": "stream",
     "text": [
      "\n",
      "Accuracy Of SVM For The Given Dataset :  0.5\n"
     ]
    }
   ],
   "source": [
    "from sklearn.metrics import confusion_matrix\n",
    "cm = confusion_matrix(y_test,y_pred )\n",
    "accuracy = float(cm.diagonal().sum())/len(y_test)\n",
    "print(\"\\nAccuracy Of SVM For The Given Dataset : \", accuracy)"
   ]
  },
  {
   "cell_type": "code",
   "execution_count": 20,
   "id": "dcc32188-b3d0-406d-8a73-71c57b4180f7",
   "metadata": {},
   "outputs": [
    {
     "name": "stdout",
     "output_type": "stream",
     "text": [
      "Accuracy of SVM Classifier: 50.0%\n",
      "\n",
      "Confusion Matrix of SVM Classifier:\n",
      "\n",
      "[[0 2 0 0]\n",
      " [0 7 2 0]\n",
      " [0 6 4 0]\n",
      " [0 0 2 1]]\n",
      "\n",
      "Classification Report of SVM Classifier:\n",
      "\n",
      "              precision    recall  f1-score   support\n",
      "\n",
      "           1       0.00      0.00      0.00         2\n",
      "           2       0.47      0.78      0.58         9\n",
      "           3       0.50      0.40      0.44        10\n",
      "           4       1.00      0.33      0.50         3\n",
      "\n",
      "    accuracy                           0.50        24\n",
      "   macro avg       0.49      0.38      0.38        24\n",
      "weighted avg       0.51      0.50      0.47        24\n",
      "\n"
     ]
    }
   ],
   "source": [
    "import warnings\n",
    "warnings.filterwarnings('ignore') \n",
    "from sklearn.metrics import accuracy_score, confusion_matrix,classification_report\n",
    "print(\"Accuracy of SVM Classifier: {}%\".format(round(accuracy_score(y_test, y_pred)*100,2)))\n",
    "print(\"\\nConfusion Matrix of SVM Classifier:\\n\")\n",
    "print(confusion_matrix(y_test, y_pred))\n",
    "print(\"\\nClassification Report of SVM Classifier:\\n\")\n",
    "print(classification_report(y_test, y_pred))"
   ]
  },
  {
   "cell_type": "code",
   "execution_count": 23,
   "id": "a96af8a1-ace1-4af0-8466-de110733a2cb",
   "metadata": {},
   "outputs": [
    {
     "data": {
      "text/plain": [
       "Text(0.5, 427.9555555555555, 'Predicted label')"
      ]
     },
     "execution_count": 23,
     "metadata": {},
     "output_type": "execute_result"
    },
    {
     "data": {
      "image/png": "[encoded data removed]",
      "text/plain": [
       "<Figure size 640x480 with 2 Axes>"
      ]
     },
     "metadata": {},
     "output_type": "display_data"
    }
   ],
   "source": [
    "class_names=[0,1] # name  of classes\n",
    "fig, ax = plt.subplots()\n",
    "tick_marks = np.arange(len(class_names))\n",
    "plt.xticks(tick_marks, class_names)\n",
    "plt.yticks(tick_marks, class_names)\n",
    "# create heatmap\n",
    "sns.heatmap(pd.DataFrame(cm), annot=True, cmap=\"YlGnBu\" ,fmt='g')\n",
    "ax.xaxis.set_label_position(\"top\")\n",
    "plt.tight_layout()\n",
    "plt.title('Confusion matrix', y=1.1)\n",
    "plt.ylabel('Actual label')\n",
    "plt.xlabel('Predicted label')"
   ]
  },
  {
   "cell_type": "code",
   "execution_count": 25,
   "id": "4af56adf-31c2-4222-9d8b-c0f6045a0af3",
   "metadata": {},
   "outputs": [
    {
     "name": "stdout",
     "output_type": "stream",
     "text": [
      "The mean_squared_error of the linnear regression is: 0.5\n",
      "mean_squared_log_error of the linnear regression is: 0.045436574802240816\n"
     ]
    }
   ],
   "source": [
    "from sklearn.metrics import mean_squared_error,mean_squared_log_error\n",
    "print(\"The mean_squared_error of the linnear regression is: {}\".format(mean_squared_error(y_test, y_pred)))\n",
    "print(\"mean_squared_log_error of the linnear regression is: {}\".format(mean_squared_log_error(y_test, y_pred)))\n",
    "# outputting more info about our linear regression model\n"
   ]
  },
  {
   "cell_type": "markdown",
   "id": "e5488677-883a-495d-9633-f4ad3edb0496",
   "metadata": {},
   "source": [
    "#### loading Svm model so we dont have to rerun our algorithm "
   ]
  },
  {
   "cell_type": "code",
   "execution_count": 27,
   "id": "f65d2a4a-7376-4ca4-b446-e354508b0fa1",
   "metadata": {},
   "outputs": [],
   "source": [
    "pickle_in = open(\"./output/SVMmodel.pickle\",\"rb\")\n",
    "classifier = pickle.load(pickle_in)"
   ]
  },
  {
   "cell_type": "code",
   "execution_count": null,
   "id": "33970175-3e60-447d-ae49-e5f9ea408a1d",
   "metadata": {},
   "outputs": [],
   "source": []
  }
 ],
 "metadata": {
  "kernelspec": {
   "display_name": "Python 3 (ipykernel)",
   "language": "python",
   "name": "python3"
  },
  "language_info": {
   "codemirror_mode": {
    "name": "ipython",
    "version": 3
   },
   "file_extension": ".py",
   "mimetype": "text/x-python",
   "name": "python",
   "nbconvert_exporter": "python",
   "pygments_lexer": "ipython3",
   "version": "3.9.13"
  }
 },
 "nbformat": 4,
 "nbformat_minor": 5
}
