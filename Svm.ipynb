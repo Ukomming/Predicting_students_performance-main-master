{
 "cells": [
  {
   "cell_type": "markdown",
   "id": "2c036eee-88e0-4a72-8c5c-fc75bca92520",
   "metadata": {},
   "source": [
    "#### Objective of this kernel:\n",
    "* to further explore the data\n",
    "* To clean the out put the Dataset to be fed into the various machine algorithms"
   ]
  },
  {
   "cell_type": "code",
   "execution_count": 37,
   "id": "5d8b50f5-70f0-4fe9-b153-836ac122c0db",
   "metadata": {},
   "outputs": [
    {
     "name": "stdout",
     "output_type": "stream",
     "text": [
      "./output/linearmodel.pickle\n",
      "./output/processed_data.csv\n",
      "./output/cleaned_data.csv\n",
      "./output/.ipynb_checkpoints/cleaned_data-checkpoint.csv\n"
     ]
    }
   ],
   "source": [
    "import pandas as pd # data processing, CSV file I/O (e.g. pd.read_csv)\n",
    "import matplotlib.pyplot as plt\n",
    "import seaborn as sns\n",
    "\n",
    "\n",
    "# Input data files are available in the \"../output/\" directory.\n",
    "import os\n",
    "for dirname, _, filenames in os.walk('./output/'):\n",
    "    for filename in filenames:\n",
    "        print(os.path.join(dirname, filename))\n",
    "# Any results you write to the current directory are saved as output."
   ]
  },
  {
   "cell_type": "markdown",
   "id": "f60f5900-3a59-4727-8c66-e1411f2a9ff1",
   "metadata": {},
   "source": [
    "## Reading the data set"
   ]
  },
  {
   "cell_type": "code",
   "execution_count": 38,
   "id": "de9ea5fb-a799-48db-ae22-345f50e8d3e3",
   "metadata": {},
   "outputs": [
    {
     "data": {
      "text/plain": [
       "(238, 8)"
      ]
     },
     "execution_count": 38,
     "metadata": {},
     "output_type": "execute_result"
    }
   ],
   "source": [
    "df = pd.read_csv('./output/cleaned_data.csv')\n",
    "df.shape"
   ]
  },
  {
   "cell_type": "markdown",
   "id": "62be6e47-9330-4e07-8778-c83f93d934bf",
   "metadata": {},
   "source": [
    "## we are going to transform all our categorical data to proper format to be fed to our machine learning algorithms\n",
    "* We preprocess our data with the LabelEncoder from sklearn"
   ]
  },
  {
   "cell_type": "markdown",
   "id": "19e01df7-9a15-4639-98d1-6833d1bebc5a",
   "metadata": {},
   "source": [
    "#### Preprocessing our independent variable x"
   ]
  },
  {
   "cell_type": "code",
   "execution_count": 39,
   "id": "0480432d-aea0-4225-b85b-06c3e639b4ab",
   "metadata": {},
   "outputs": [],
   "source": [
    "y= df[[\"current CGPA\"]].values\n",
    "x =df[[\"Age\",\"Gender\",\"wassce grade\",\"level\",\"access to a laptop or internet\",\"study group\",\"time spent on independent studies\"]].values"
   ]
  },
  {
   "cell_type": "code",
   "execution_count": 40,
   "id": "67cef336-1f44-4c08-9fff-fc5ffefed1c6",
   "metadata": {},
   "outputs": [
    {
     "data": {
      "text/plain": [
       "dtype('int64')"
      ]
     },
     "execution_count": 40,
     "metadata": {},
     "output_type": "execute_result"
    }
   ],
   "source": [
    "from sklearn.preprocessing import LabelEncoder\n",
    "label_encoder_x = LabelEncoder()\n",
    "x[:,0] =label_encoder_x.fit_transform(x[:,0])\n",
    "x[:,1] =label_encoder_x.fit_transform(x[:,1])\n",
    "x[:,2] =label_encoder_x.fit_transform(x[:,2])\n",
    "x[:,3] =label_encoder_x.fit_transform(x[:,3])\n",
    "x[:,4] =label_encoder_x.fit_transform(x[:,4])\n",
    "x[:,5] =label_encoder_x.fit_transform(x[:,5])\n",
    "x[:,6] =label_encoder_x.fit_transform(x[:,6])\n",
    "x.dtype\n",
    "x=x.astype('int')\n",
    "x.dtype"
   ]
  },
  {
   "cell_type": "markdown",
   "id": "b73e9752-130c-4e35-a517-a8b14b2965ce",
   "metadata": {},
   "source": [
    "#### Preocessing our dependent variable y"
   ]
  },
  {
   "cell_type": "code",
   "execution_count": 41,
   "id": "16ab4e10-b21d-46cb-b77d-d0119e2158ed",
   "metadata": {},
   "outputs": [
    {
     "data": {
      "text/plain": [
       "dtype('int64')"
      ]
     },
     "execution_count": 41,
     "metadata": {},
     "output_type": "execute_result"
    }
   ],
   "source": [
    "y[:,0] =label_encoder_x.fit_transform(y[:,0])\n",
    "y.dtype\n",
    "y=y.astype('int')\n",
    "y.dtype"
   ]
  },
  {
   "cell_type": "markdown",
   "id": "350601c0-7094-4d04-9881-3c469e2b4d2d",
   "metadata": {},
   "source": [
    "# Lets start implementing our machine learning algorithms"
   ]
  },
  {
   "cell_type": "code",
   "execution_count": 42,
   "id": "e1eaae59-9986-44bb-b533-a16128fb0513",
   "metadata": {},
   "outputs": [],
   "source": [
    "from sklearn.model_selection import train_test_split\n",
    "import pickle\n",
    "x_train,x_test,y_train,y_test=train_test_split(x,y,test_size=0.4)"
   ]
  },
  {
   "cell_type": "markdown",
   "id": "3f4c2f9f-8b32-4a52-9f84-d94f27d4c5af",
   "metadata": {},
   "source": [
    "## linear Kennel"
   ]
  },
  {
   "cell_type": "code",
   "execution_count": null,
   "id": "8b255f66-f585-40f7-b7ae-860efd27d65b",
   "metadata": {},
   "outputs": [],
   "source": [
    "\n"
   ]
  },
  {
   "cell_type": "code",
   "execution_count": null,
   "id": "384bd79c-3bc4-4959-8d79-d22992f6570b",
   "metadata": {},
   "outputs": [],
   "source": []
  },
  {
   "cell_type": "code",
   "execution_count": null,
   "id": "7ec09b70-d226-4b62-a700-6178c30dae80",
   "metadata": {},
   "outputs": [],
   "source": []
  },
  {
   "cell_type": "markdown",
   "id": "2860ef8c-1f9e-4bac-996b-0e196de168f9",
   "metadata": {},
   "source": [
    "## Gaussian Kernel"
   ]
  },
  {
   "cell_type": "code",
   "execution_count": null,
   "id": "dad86c47-cc2f-4709-b720-e57b016bfb37",
   "metadata": {},
   "outputs": [],
   "source": []
  }
 ],
 "metadata": {
  "kernelspec": {
   "display_name": "Python 3 (ipykernel)",
   "language": "python",
   "name": "python3"
  },
  "language_info": {
   "codemirror_mode": {
    "name": "ipython",
    "version": 3
   },
   "file_extension": ".py",
   "mimetype": "text/x-python",
   "name": "python",
   "nbconvert_exporter": "python",
   "pygments_lexer": "ipython3",
   "version": "3.9.13"
  }
 },
 "nbformat": 4,
 "nbformat_minor": 5
}
