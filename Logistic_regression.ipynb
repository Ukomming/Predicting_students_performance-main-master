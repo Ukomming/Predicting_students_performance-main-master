{
 "cells": [
  {
   "cell_type": "markdown",
   "id": "b582cf45-f849-4b8f-b18b-ee2246b38b80",
   "metadata": {},
   "source": [
    "#### Objective of this kernel:\n",
    "* To impliment Logistic regression machine Learning algorithm \n",
    "* To save our model for future use\n",
    "* To measure the accuracy of our model"
   ]
  },
  {
   "cell_type": "markdown",
   "id": "097f511b-5496-481f-a4e6-8ba241cdc202",
   "metadata": {
    "jp-MarkdownHeadingCollapsed": true,
    "tags": []
   },
   "source": [
    "## Importing our libraries "
   ]
  },
  {
   "cell_type": "code",
   "execution_count": 2,
   "id": "28415cad-673e-4057-96d6-7a81988bd5e3",
   "metadata": {},
   "outputs": [
    {
     "name": "stdout",
     "output_type": "stream",
     "text": [
      "./output/linearmodel.pickle\n",
      "./output/KNNmodel.pickle\n",
      "./output/processed_data.csv\n",
      "./output/cleaned_data.csv\n",
      "./output/SVMmodel.pickle\n",
      "./output/.ipynb_checkpoints/cleaned_data-checkpoint.csv\n"
     ]
    }
   ],
   "source": [
    "import numpy as np\n",
    "import pandas as pd # data processing, CSV file I/O (e.g. pd.read_csv)\n",
    "import matplotlib.pyplot as plt\n",
    "import seaborn as sns\n",
    "\n",
    "\n",
    "# Input data files are available in the \"../output/\" directory.\n",
    "import os\n",
    "for dirname, _, filenames in os.walk('./output/'):\n",
    "    for filename in filenames:\n",
    "        print(os.path.join(dirname, filename))\n",
    "# Any results you write to the current directory are saved as output."
   ]
  },
  {
   "cell_type": "markdown",
   "id": "db281668-f043-4cb8-b852-3de62a7f0e5e",
   "metadata": {
    "jp-MarkdownHeadingCollapsed": true,
    "tags": []
   },
   "source": [
    "## Reading the data set"
   ]
  },
  {
   "cell_type": "code",
   "execution_count": 3,
   "id": "02db4b53-10fe-4436-94d8-198a62367916",
   "metadata": {},
   "outputs": [
    {
     "data": {
      "text/plain": [
       "(238, 8)"
      ]
     },
     "execution_count": 3,
     "metadata": {},
     "output_type": "execute_result"
    }
   ],
   "source": [
    "df = pd.read_csv('./output/cleaned_data.csv')\n",
    "df.shape #  describes the shape of our data"
   ]
  },
  {
   "cell_type": "markdown",
   "id": "afd8f9d3-fd6c-4cc8-8949-01717fe6a3f0",
   "metadata": {
    "tags": []
   },
   "source": [
    "## we are going to transform all our categorical data to proper format to be fed to our machine learning algorithms\n",
    "* We preprocess our data with the LabelEncoder from sklearn"
   ]
  },
  {
   "cell_type": "markdown",
   "id": "bd85df23-382e-40f3-94df-d738a78cd866",
   "metadata": {
    "jp-MarkdownHeadingCollapsed": true,
    "tags": []
   },
   "source": [
    "#### Preprocessing our independent variable x and dependent variable y"
   ]
  },
  {
   "cell_type": "code",
   "execution_count": 4,
   "id": "346d3c11-0e4a-4e04-a63f-6bab501b6785",
   "metadata": {},
   "outputs": [],
   "source": [
    "from sklearn.preprocessing import LabelEncoder\n",
    "label_encoder_x=LabelEncoder()\n",
    "#preprocessing x\n",
    "Age=label_encoder_x.fit_transform(list(df[\"Age\"]))\n",
    "Gender=label_encoder_x.fit_transform(list(df[\"Gender\"]))\n",
    "wassce_grade=label_encoder_x.fit_transform(list(df[\"wassce grade\"]))\n",
    "level=label_encoder_x.fit_transform(list(df[\"level\"]))\n",
    "access_to_a_laptop_or_internet=label_encoder_x.fit_transform(list(df[\"access to a laptop or internet\"]))\n",
    "study_group=label_encoder_x.fit_transform(list(df[\"study group\"]))\n",
    "time_spent_on_independent_studies=label_encoder_x.fit_transform(list(df[\"time spent on independent studies\"]))\n",
    "\n",
    "current_CGPA=label_encoder_x.fit_transform(list(df[\"current CGPA\"]))\n",
    "\n",
    "\n",
    "x=list(zip(Age,Gender,wassce_grade,access_to_a_laptop_or_internet,study_group,time_spent_on_independent_studies,))\n",
    "y=list(current_CGPA)"
   ]
  },
  {
   "cell_type": "markdown",
   "id": "67534224-9f7e-4a2b-9fb1-fd54a5ff7e44",
   "metadata": {},
   "source": [
    "# Lets start implimenting our Logistic regression machine learning algorithm on our dataset"
   ]
  },
  {
   "cell_type": "markdown",
   "id": "5079c91c-412f-439d-ace7-54907a7bd193",
   "metadata": {
    "tags": []
   },
   "source": [
    "### Fitting the training data"
   ]
  },
  {
   "cell_type": "code",
   "execution_count": 11,
   "id": "d037c155-9af4-41a2-8266-2f26a0e94d01",
   "metadata": {},
   "outputs": [],
   "source": [
    "from sklearn.model_selection import train_test_split \n",
    "import pickle # This is used to save our model to be used in the future \n",
    "# we split our data into training and testing dataset\n",
    "from sklearn.preprocessing import StandardScaler # to scale our data \n",
    "x_train,x_test,y_train,y_test=train_test_split(x,y,test_size=0.2)\n",
    "scaler = StandardScaler()\n",
    "scaler.fit(x_train)\n",
    "x_train = scaler.transform(x_train)\n",
    "x_test = scaler.transform(x_test)"
   ]
  },
  {
   "cell_type": "markdown",
   "id": "ec1d0790-bf5f-4105-b351-e76b60d9aea7",
   "metadata": {
    "tags": []
   },
   "source": [
    "### Initializing the Logistic Regression "
   ]
  },
  {
   "cell_type": "code",
   "execution_count": 62,
   "id": "04f614ef-d4f1-4adf-9e16-13198c6abf29",
   "metadata": {},
   "outputs": [
    {
     "name": "stdout",
     "output_type": "stream",
     "text": [
      "0.5416666666666666\n"
     ]
    }
   ],
   "source": [
    "from sklearn.linear_model import LogisticRegression\n",
    "best = 0\n",
    "for r in range(20):\n",
    "    x_train,x_test,y_train,y_test=train_test_split(x,y,test_size=0.2)\n",
    "    # instantiate the model (using the default parameters)\n",
    "    logreg = LogisticRegression(random_state=r)\n",
    "    # fit the model with data\n",
    "    logreg.fit(x_train, y_train)\n",
    "    logreg_score = logreg.score(x_test,y_test)\n",
    "    if logreg_score > best:\n",
    "        best = logreg_score\n",
    "        with open(\"./output/Logregmodel.pickle\",\"wb\") as f:\n",
    "                pickle.dump(logreg,f)\n",
    "                \n",
    "print(logreg_score)\n"
   ]
  },
  {
   "cell_type": "markdown",
   "id": "d6564041-6f30-40cc-b718-4371c59dc7cc",
   "metadata": {},
   "source": [
    "### Predicting the classes for test set"
   ]
  },
  {
   "cell_type": "code",
   "execution_count": 71,
   "id": "760deca3-d961-4a3a-bbea-b15df01a37db",
   "metadata": {},
   "outputs": [
    {
     "name": "stdout",
     "output_type": "stream",
     "text": [
      "Predicted Value: [2 1 2 2 2 3 2 2 2 3 3 2 2 2 3 3 3 3 4 2 4 1 3 2 3 1 3 3 2 3 2 4 2 4 3 2 4\n",
      " 2 2 2 2 2 3 2 3 2 1 1]\n"
     ]
    }
   ],
   "source": [
    "y_pred = logreg.predict(x_test)\n",
    "print (\"Predicted Value:\", y_pred)"
   ]
  },
  {
   "cell_type": "markdown",
   "id": "54d2c65a-3469-4453-8953-743814a0056b",
   "metadata": {
    "tags": []
   },
   "source": [
    "## Model Evaluation using Confusion Matrix"
   ]
  },
  {
   "cell_type": "code",
   "execution_count": 67,
   "id": "d827f301-3a58-4e63-8600-9959de89e256",
   "metadata": {},
   "outputs": [
    {
     "name": "stdout",
     "output_type": "stream",
     "text": [
      "\n",
      "Confusion Matrix of Logistic regression:\n",
      "\n",
      "Accuracy of SVM Classifier: 54.17%\n",
      "\n",
      "Classification Report of SVM Classifier:\n",
      "\n",
      "              precision    recall  f1-score   support\n",
      "\n",
      "           0       0.00      0.00      0.00         2\n",
      "           1       0.60      0.50      0.55         6\n",
      "           2       0.48      0.65      0.55        17\n",
      "           3       0.67      0.59      0.62        17\n",
      "           4       0.40      0.40      0.40         5\n",
      "           5       0.00      0.00      0.00         1\n",
      "\n",
      "    accuracy                           0.54        48\n",
      "   macro avg       0.36      0.36      0.35        48\n",
      "weighted avg       0.52      0.54      0.53        48\n",
      "\n"
     ]
    }
   ],
   "source": [
    "import warnings\n",
    "warnings.filterwarnings('ignore') \n",
    "# import the metrics class\n",
    "from sklearn.metrics import accuracy_score, confusion_matrix,classification_report\n",
    "print(\"\\nConfusion Matrix of Logistic regression:\\n\")\n",
    "cnf_matrix = confusion_matrix(y_test, y_pred)\n",
    "cnf_matrix\n",
    "print(\"Accuracy of SVM Classifier: {}%\".format(round(accuracy_score(y_test, y_pred)*100,2)))\n",
    "print(\"\\nClassification Report of SVM Classifier:\\n\")\n",
    "print(classification_report(y_test, y_pred))"
   ]
  },
  {
   "cell_type": "markdown",
   "id": "31bea490-080f-4343-9d10-dac7245f38a4",
   "metadata": {
    "tags": []
   },
   "source": [
    "#### Visualizing Confusion Matrix using Heatmap"
   ]
  },
  {
   "cell_type": "code",
   "execution_count": 68,
   "id": "d415ae65-3b97-4b7a-a2f4-99692e9941cf",
   "metadata": {},
   "outputs": [
    {
     "data": {
      "text/plain": [
       "Text(0.5, 427.9555555555555, 'Predicted label')"
      ]
     },
     "execution_count": 68,
     "metadata": {},
     "output_type": "execute_result"
    },
    {
     "data": {
      "image/png": "[encoded data removed]",
      "text/plain": [
       "<Figure size 640x480 with 2 Axes>"
      ]
     },
     "metadata": {},
     "output_type": "display_data"
    }
   ],
   "source": [
    "class_names=[0,1] # name  of classes\n",
    "fig, ax = plt.subplots()\n",
    "tick_marks = np.arange(len(class_names))\n",
    "plt.xticks(tick_marks, class_names)\n",
    "plt.yticks(tick_marks, class_names)\n",
    "# create heatmap\n",
    "sns.heatmap(pd.DataFrame(cnf_matrix), annot=True, cmap=\"YlGnBu\" ,fmt='g')\n",
    "ax.xaxis.set_label_position(\"top\")\n",
    "plt.tight_layout()\n",
    "plt.title('Confusion matrix', y=1.1)\n",
    "plt.ylabel('Actual label')\n",
    "plt.xlabel('Predicted label')\n"
   ]
  },
  {
   "cell_type": "markdown",
   "id": "858e4d71-4f3a-40d4-9645-a90bd29df763",
   "metadata": {},
   "source": [
    "#### loading Svm model so we dont have to rerun our algorithm "
   ]
  },
  {
   "cell_type": "code",
   "execution_count": 1,
   "id": "bf1132cc-142b-4786-ae37-ed53054d739f",
   "metadata": {},
   "outputs": [
    {
     "ename": "NameError",
     "evalue": "name 'pickle' is not defined",
     "output_type": "error",
     "traceback": [
      "\u001b[0;31m---------------------------------------------------------------------------\u001b[0m",
      "\u001b[0;31mNameError\u001b[0m                                 Traceback (most recent call last)",
      "\u001b[0;32m/tmp/ipykernel_13022/929691162.py\u001b[0m in \u001b[0;36m<module>\u001b[0;34m\u001b[0m\n\u001b[1;32m      1\u001b[0m \u001b[0mpickle_in\u001b[0m \u001b[0;34m=\u001b[0m \u001b[0mopen\u001b[0m\u001b[0;34m(\u001b[0m\u001b[0;34m\"./output/Logregmodel.pickle\"\u001b[0m\u001b[0;34m,\u001b[0m\u001b[0;34m\"rb\"\u001b[0m\u001b[0;34m)\u001b[0m\u001b[0;34m\u001b[0m\u001b[0;34m\u001b[0m\u001b[0m\n\u001b[0;32m----> 2\u001b[0;31m \u001b[0mlogreg\u001b[0m \u001b[0;34m=\u001b[0m \u001b[0mpickle\u001b[0m\u001b[0;34m.\u001b[0m\u001b[0mload\u001b[0m\u001b[0;34m(\u001b[0m\u001b[0mpickle_in\u001b[0m\u001b[0;34m)\u001b[0m\u001b[0;34m\u001b[0m\u001b[0;34m\u001b[0m\u001b[0m\n\u001b[0m",
      "\u001b[0;31mNameError\u001b[0m: name 'pickle' is not defined"
     ]
    }
   ],
   "source": [
    "pickle_in = open(\"./output/Logregmodel.pickle\",\"rb\")\n",
    "logreg = pickle.load(pickle_in)"
   ]
  },
  {
   "cell_type": "code",
   "execution_count": null,
   "id": "9823cf8d-3eea-4aea-8a86-a126e9bff0fd",
   "metadata": {},
   "outputs": [],
   "source": []
  }
 ],
 "metadata": {
  "kernelspec": {
   "display_name": "Python 3 (ipykernel)",
   "language": "python",
   "name": "python3"
  },
  "language_info": {
   "codemirror_mode": {
    "name": "ipython",
    "version": 3
   },
   "file_extension": ".py",
   "mimetype": "text/x-python",
   "name": "python",
   "nbconvert_exporter": "python",
   "pygments_lexer": "ipython3",
   "version": "3.9.13"
  }
 },
 "nbformat": 4,
 "nbformat_minor": 5
}
