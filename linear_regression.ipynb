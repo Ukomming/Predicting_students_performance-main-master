{
 "cells": [
  {
   "cell_type": "markdown",
   "id": "876d02de-6f9d-4d0d-a312-008ee7de4b88",
   "metadata": {
    "tags": []
   },
   "source": [
    "#### Objective of this kernel:\n",
    "* to further explore the data\n",
    "* To clean the out put the Dataset to be fed into the various machine algorithms"
   ]
  },
  {
   "cell_type": "markdown",
   "id": "f6272317-114f-4cac-95f0-cfe0d04ff281",
   "metadata": {
    "tags": []
   },
   "source": [
    "### Importing our libraries "
   ]
  },
  {
   "cell_type": "code",
   "execution_count": 57,
   "id": "c10b6909-fbf1-408b-98b9-7bd9d11fc8e2",
   "metadata": {},
   "outputs": [
    {
     "name": "stdout",
     "output_type": "stream",
     "text": [
      "./output/linearmodel.pickle\n",
      "./output/KNNmodel.pickle\n",
      "./output/processed_data.csv\n",
      "./output/cleaned_data.csv\n",
      "./output/Logregmodel.pickle\n",
      "./output/SVMmodel.pickle\n",
      "./output/.ipynb_checkpoints/cleaned_data-checkpoint.csv\n"
     ]
    }
   ],
   "source": [
    "import numpy as np\n",
    "import pandas as pd # data processing, CSV file I/O (e.g. pd.read_csv)\n",
    "import matplotlib.pyplot as plt\n",
    "import seaborn as sns\n",
    "\n",
    "\n",
    "# Input data files are available in the \"../output/\" directory.\n",
    "import os\n",
    "for dirname, _, filenames in os.walk('./output/'):\n",
    "    for filename in filenames:\n",
    "        print(os.path.join(dirname, filename))\n",
    "# Any results you write to the current directory are saved as output."
   ]
  },
  {
   "cell_type": "markdown",
   "id": "a3e7f9b1-8cb9-4e9a-bd8c-4427f4fb1631",
   "metadata": {
    "jp-MarkdownHeadingCollapsed": true,
    "tags": []
   },
   "source": [
    "## Reading the data set"
   ]
  },
  {
   "cell_type": "code",
   "execution_count": 50,
   "id": "42e65846-fb08-451a-9aaf-97d3f5367a31",
   "metadata": {},
   "outputs": [
    {
     "data": {
      "text/html": [
       "<div>\n",
       "<style scoped>\n",
       "    .dataframe tbody tr th:only-of-type {\n",
       "        vertical-align: middle;\n",
       "    }\n",
       "\n",
       "    .dataframe tbody tr th {\n",
       "        vertical-align: top;\n",
       "    }\n",
       "\n",
       "    .dataframe thead th {\n",
       "        text-align: right;\n",
       "    }\n",
       "</style>\n",
       "<table border=\"1\" class=\"dataframe\">\n",
       "  <thead>\n",
       "    <tr style=\"text-align: right;\">\n",
       "      <th></th>\n",
       "      <th>Age</th>\n",
       "      <th>Gender</th>\n",
       "      <th>wassce grade</th>\n",
       "      <th>level</th>\n",
       "      <th>current CGPA</th>\n",
       "      <th>access to a laptop or internet</th>\n",
       "      <th>study group</th>\n",
       "      <th>time spent on independent studies</th>\n",
       "    </tr>\n",
       "  </thead>\n",
       "  <tbody>\n",
       "    <tr>\n",
       "      <th>0</th>\n",
       "      <td>23 - 27 years</td>\n",
       "      <td>Male</td>\n",
       "      <td>16 - 20</td>\n",
       "      <td>L 400</td>\n",
       "      <td>2.9 - 2.5</td>\n",
       "      <td>Yes</td>\n",
       "      <td>Yes</td>\n",
       "      <td>More than 2 hours</td>\n",
       "    </tr>\n",
       "    <tr>\n",
       "      <th>1</th>\n",
       "      <td>23 - 27 years</td>\n",
       "      <td>Male</td>\n",
       "      <td>6 - 9</td>\n",
       "      <td>L 400</td>\n",
       "      <td>1.9 - 1.5</td>\n",
       "      <td>Yes</td>\n",
       "      <td>Yes</td>\n",
       "      <td>More than 2 hours</td>\n",
       "    </tr>\n",
       "    <tr>\n",
       "      <th>2</th>\n",
       "      <td>23 - 27 years</td>\n",
       "      <td>Male</td>\n",
       "      <td>10 - 15</td>\n",
       "      <td>L 400</td>\n",
       "      <td>3.5 - 3.0</td>\n",
       "      <td>Yes</td>\n",
       "      <td>Yes</td>\n",
       "      <td>Less than 2 hours</td>\n",
       "    </tr>\n",
       "    <tr>\n",
       "      <th>3</th>\n",
       "      <td>23 - 27 years</td>\n",
       "      <td>Female</td>\n",
       "      <td>10 - 15</td>\n",
       "      <td>L 400</td>\n",
       "      <td>2.9 - 2.5</td>\n",
       "      <td>Yes</td>\n",
       "      <td>Yes</td>\n",
       "      <td>More than 2 hours</td>\n",
       "    </tr>\n",
       "    <tr>\n",
       "      <th>4</th>\n",
       "      <td>23 - 27 years</td>\n",
       "      <td>Female</td>\n",
       "      <td>10 - 15</td>\n",
       "      <td>L 400</td>\n",
       "      <td>2.9 - 2.5</td>\n",
       "      <td>Yes</td>\n",
       "      <td>Yes</td>\n",
       "      <td>More than 2 hours</td>\n",
       "    </tr>\n",
       "  </tbody>\n",
       "</table>\n",
       "</div>"
      ],
      "text/plain": [
       "             Age  Gender wassce grade  level current CGPA  \\\n",
       "0  23 - 27 years    Male      16 - 20  L 400    2.9 - 2.5   \n",
       "1  23 - 27 years    Male        6 - 9  L 400    1.9 - 1.5   \n",
       "2  23 - 27 years    Male      10 - 15  L 400    3.5 - 3.0   \n",
       "3  23 - 27 years  Female      10 - 15  L 400    2.9 - 2.5   \n",
       "4  23 - 27 years  Female      10 - 15  L 400    2.9 - 2.5   \n",
       "\n",
       "  access to a laptop or internet study group time spent on independent studies  \n",
       "0                            Yes         Yes                 More than 2 hours  \n",
       "1                            Yes         Yes                 More than 2 hours  \n",
       "2                            Yes         Yes                 Less than 2 hours  \n",
       "3                            Yes         Yes                 More than 2 hours  \n",
       "4                            Yes         Yes                 More than 2 hours  "
      ]
     },
     "execution_count": 50,
     "metadata": {},
     "output_type": "execute_result"
    }
   ],
   "source": [
    "df = pd.read_csv('./output/cleaned_data.csv')\n",
    "df.head()"
   ]
  },
  {
   "cell_type": "markdown",
   "id": "e581ed72-dffa-4f9b-9dde-bd44c367aa1e",
   "metadata": {
    "tags": []
   },
   "source": [
    "## we are going to transform all our categorical data to proper format to be fed to our machine learning algorithms\n",
    "* We preprocess our data with the LabelEncoder from sklearn"
   ]
  },
  {
   "cell_type": "markdown",
   "id": "6b0d8c27-18a8-4c0d-ab87-e84e562e1e53",
   "metadata": {
    "tags": []
   },
   "source": [
    "#### Preprocessing our independent variable x and our dependent variable y"
   ]
  },
  {
   "cell_type": "code",
   "execution_count": 6,
   "id": "5e9f2e4c-8c50-497c-b0e7-6e8d61690ae7",
   "metadata": {},
   "outputs": [],
   "source": [
    "from sklearn.preprocessing import LabelEncoder\n",
    "label_encoder_x=LabelEncoder()\n",
    "#preprocessing x\n",
    "Age=label_encoder_x.fit_transform(list(df[\"Age\"]))\n",
    "Gender=label_encoder_x.fit_transform(list(df[\"Gender\"]))\n",
    "wassce_grade=label_encoder_x.fit_transform(list(df[\"wassce grade\"]))\n",
    "level=label_encoder_x.fit_transform(list(df[\"level\"]))\n",
    "access_to_a_laptop_or_internet=label_encoder_x.fit_transform(list(df[\"access to a laptop or internet\"]))\n",
    "study_group=label_encoder_x.fit_transform(list(df[\"study group\"]))\n",
    "time_spent_on_independent_studies=label_encoder_x.fit_transform(list(df[\"time spent on independent studies\"]))\n",
    "\n",
    "current_CGPA=label_encoder_x.fit_transform(list(df[\"current CGPA\"]))\n",
    "\n",
    "\n",
    "x=list(zip(Age,Gender,wassce_grade,access_to_a_laptop_or_internet,study_group,time_spent_on_independent_studies,))\n",
    "y=list(current_CGPA)\n"
   ]
  },
  {
   "cell_type": "markdown",
   "id": "af1b3295-3039-47f0-9458-16557ecbe4b7",
   "metadata": {
    "tags": []
   },
   "source": [
    "# Lets start implementing our machine learning algorithms"
   ]
  },
  {
   "cell_type": "code",
   "execution_count": 7,
   "id": "b37b3b3d-08ce-43fd-a2d3-fe9c67a11235",
   "metadata": {},
   "outputs": [],
   "source": [
    "from sklearn.model_selection import train_test_split\n",
    "import pickle"
   ]
  },
  {
   "cell_type": "markdown",
   "id": "ce1a0851-6f54-4629-8f3e-8d6ececa6029",
   "metadata": {
    "tags": []
   },
   "source": [
    "### Impleamenting the linear regression algorithm\n",
    "* we train our data 100 iterations \n",
    "* we pick the best result"
   ]
  },
  {
   "cell_type": "code",
   "execution_count": 33,
   "id": "4013cd92-43e1-497e-b6d9-9b96e2677e3a",
   "metadata": {},
   "outputs": [
    {
     "name": "stdout",
     "output_type": "stream",
     "text": [
      "0.4424655192302943\n"
     ]
    }
   ],
   "source": [
    "# import the linear regression module from sklearn\n",
    "from sklearn import linear_model\n",
    "from sklearn.model_selection import train_test_split\n",
    "\n",
    "\n",
    "\n",
    "best = 0\n",
    "for _ in range(1000):    \n",
    "    x_train,x_test,y_train,y_test=train_test_split(x,y,test_size=0.1)\n",
    "    linear =linear_model.LinearRegression()\n",
    "    linear.fit(x_train,y_train)\n",
    "    linear_score = linear.score(x_test,y_test)\n",
    "    if linear_score > best:\n",
    "        best = linear_score\n",
    "        with open(\"./output/linearmodel.pickle\",\"wb\") as f:\n",
    "            pickle.dump(linear,f)\n",
    "print(best)"
   ]
  },
  {
   "cell_type": "markdown",
   "id": "80089b6f-c876-4453-b47c-040de48c7171",
   "metadata": {
    "tags": []
   },
   "source": [
    "### Predicting the classes for test set"
   ]
  },
  {
   "cell_type": "code",
   "execution_count": 63,
   "id": "760800ee-ec5d-4eb6-8545-2fb2fd016387",
   "metadata": {},
   "outputs": [
    {
     "name": "stdout",
     "output_type": "stream",
     "text": [
      "Predicted Value: [2. 2. 2. 3. 2. 2. 2. 2. 3. 3. 3. 2. 3. 2. 3. 2. 2. 3. 3. 2. 3. 3. 2. 2.]\n"
     ]
    }
   ],
   "source": [
    "Y_pred = linear.predict(x_test)\n",
    "\n",
    "\n",
    "y_pred = np.round_(Y_pred, decimals=0, out=None)\n",
    "    \n",
    "print (\"Predicted Value:\",y_pred)"
   ]
  },
  {
   "cell_type": "markdown",
   "id": "c5422d32-6968-474c-911a-9c615b8f996f",
   "metadata": {
    "tags": []
   },
   "source": [
    "### Calculating the accuracy of the predictions"
   ]
  },
  {
   "cell_type": "code",
   "execution_count": 51,
   "id": "205d0bf3-d4b9-4b90-94c6-88015c5c6c80",
   "metadata": {},
   "outputs": [
    {
     "name": "stdout",
     "output_type": "stream",
     "text": [
      "The mean_squared_error of the linnear regression is: 1.371331164910611\n",
      "mean_squared_log_error of the linnear regression is: 0.09959130472468092\n",
      "coeffitient:\n",
      " [-0.08217557 -0.12219893  0.17280244  0.0663378   0.22001124  0.22944272]\n",
      "Intercept:\n",
      " 1.8119863177146578\n",
      "Variance score: -0.2735165225956233\n"
     ]
    }
   ],
   "source": [
    "from sklearn.metrics import mean_squared_error,mean_squared_log_error,confusion_matrix\n",
    "print(\"The mean_squared_error of the linnear regression is: {}\".format(mean_squared_error(y_test, y_pred)))\n",
    "print(\"mean_squared_log_error of the linnear regression is: {}\".format(mean_squared_log_error(y_test, y_pred)))\n",
    "# outputting more info about our linear regression model\n",
    "print('coeffitient:\\n',linear.coef_)\n",
    "print('Intercept:\\n',linear.intercept_)\n",
    "# variance score: 1 means perfect prediction\n",
    "print('Variance score: {}'.format(linear.score(x_test, y_test)))"
   ]
  },
  {
   "cell_type": "markdown",
   "id": "7065d363-ca99-41ca-bec8-54854622ca40",
   "metadata": {
    "tags": []
   },
   "source": [
    "#### loading linear regression model so we dont have to rerun our algorithm "
   ]
  },
  {
   "cell_type": "code",
   "execution_count": 21,
   "id": "088163e8-c550-432a-ae07-915588faa3ee",
   "metadata": {},
   "outputs": [],
   "source": [
    "pickle_in = open(\"./output/linearmodel.pickle\",\"rb\")\n",
    "linear = pickle.load(pickle_in)"
   ]
  }
 ],
 "metadata": {
  "kernelspec": {
   "display_name": "Python 3 (ipykernel)",
   "language": "python",
   "name": "python3"
  },
  "language_info": {
   "codemirror_mode": {
    "name": "ipython",
    "version": 3
   },
   "file_extension": ".py",
   "mimetype": "text/x-python",
   "name": "python",
   "nbconvert_exporter": "python",
   "pygments_lexer": "ipython3",
   "version": "3.9.13"
  }
 },
 "nbformat": 4,
 "nbformat_minor": 5
}
