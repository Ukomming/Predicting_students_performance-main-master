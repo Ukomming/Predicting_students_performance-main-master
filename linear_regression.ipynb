{
 "cells": [
  {
   "cell_type": "markdown",
   "id": "876d02de-6f9d-4d0d-a312-008ee7de4b88",
   "metadata": {
    "tags": []
   },
   "source": [
    "#### Objective of this kernel:\n",
    "* to further explore the data\n",
    "* To clean the out put the Dataset to be fed into the various machine algorithms"
   ]
  },
  {
   "cell_type": "code",
   "execution_count": 5,
   "id": "c10b6909-fbf1-408b-98b9-7bd9d11fc8e2",
   "metadata": {},
   "outputs": [
    {
     "name": "stdout",
     "output_type": "stream",
     "text": [
      "./output/linearmodel.pickle\n",
      "./output/processed_data.csv\n",
      "./output/cleaned_data.csv\n",
      "./output/.ipynb_checkpoints/cleaned_data-checkpoint.csv\n"
     ]
    }
   ],
   "source": [
    "import pandas as pd # data processing, CSV file I/O (e.g. pd.read_csv)\n",
    "import matplotlib.pyplot as plt\n",
    "import seaborn as sns\n",
    "\n",
    "\n",
    "# Input data files are available in the \"../output/\" directory.\n",
    "import os\n",
    "for dirname, _, filenames in os.walk('./output/'):\n",
    "    for filename in filenames:\n",
    "        print(os.path.join(dirname, filename))\n",
    "# Any results you write to the current directory are saved as output."
   ]
  },
  {
   "cell_type": "markdown",
   "id": "a3e7f9b1-8cb9-4e9a-bd8c-4427f4fb1631",
   "metadata": {},
   "source": [
    "## Reading the data set"
   ]
  },
  {
   "cell_type": "code",
   "execution_count": 6,
   "id": "42e65846-fb08-451a-9aaf-97d3f5367a31",
   "metadata": {},
   "outputs": [
    {
     "data": {
      "text/html": [
       "<div>\n",
       "<style scoped>\n",
       "    .dataframe tbody tr th:only-of-type {\n",
       "        vertical-align: middle;\n",
       "    }\n",
       "\n",
       "    .dataframe tbody tr th {\n",
       "        vertical-align: top;\n",
       "    }\n",
       "\n",
       "    .dataframe thead th {\n",
       "        text-align: right;\n",
       "    }\n",
       "</style>\n",
       "<table border=\"1\" class=\"dataframe\">\n",
       "  <thead>\n",
       "    <tr style=\"text-align: right;\">\n",
       "      <th></th>\n",
       "      <th>Age</th>\n",
       "      <th>Gender</th>\n",
       "      <th>wassce grade</th>\n",
       "      <th>level</th>\n",
       "      <th>current CGPA</th>\n",
       "      <th>access to a laptop or internet</th>\n",
       "      <th>study group</th>\n",
       "      <th>time spent on independent studies</th>\n",
       "    </tr>\n",
       "  </thead>\n",
       "  <tbody>\n",
       "    <tr>\n",
       "      <th>0</th>\n",
       "      <td>23 - 27 years</td>\n",
       "      <td>Male</td>\n",
       "      <td>16 - 20</td>\n",
       "      <td>L 400</td>\n",
       "      <td>2.9 - 2.5</td>\n",
       "      <td>Yes</td>\n",
       "      <td>Yes</td>\n",
       "      <td>More than 2 hours</td>\n",
       "    </tr>\n",
       "    <tr>\n",
       "      <th>1</th>\n",
       "      <td>23 - 27 years</td>\n",
       "      <td>Male</td>\n",
       "      <td>6 - 9</td>\n",
       "      <td>L 400</td>\n",
       "      <td>1.9 - 1.5</td>\n",
       "      <td>Yes</td>\n",
       "      <td>Yes</td>\n",
       "      <td>More than 2 hours</td>\n",
       "    </tr>\n",
       "    <tr>\n",
       "      <th>2</th>\n",
       "      <td>23 - 27 years</td>\n",
       "      <td>Male</td>\n",
       "      <td>10 - 15</td>\n",
       "      <td>L 400</td>\n",
       "      <td>3.5 - 3.0</td>\n",
       "      <td>Yes</td>\n",
       "      <td>Yes</td>\n",
       "      <td>Less than 2 hours</td>\n",
       "    </tr>\n",
       "    <tr>\n",
       "      <th>3</th>\n",
       "      <td>23 - 27 years</td>\n",
       "      <td>Female</td>\n",
       "      <td>10 - 15</td>\n",
       "      <td>L 400</td>\n",
       "      <td>2.9 - 2.5</td>\n",
       "      <td>Yes</td>\n",
       "      <td>Yes</td>\n",
       "      <td>More than 2 hours</td>\n",
       "    </tr>\n",
       "    <tr>\n",
       "      <th>4</th>\n",
       "      <td>23 - 27 years</td>\n",
       "      <td>Female</td>\n",
       "      <td>10 - 15</td>\n",
       "      <td>L 400</td>\n",
       "      <td>2.9 - 2.5</td>\n",
       "      <td>Yes</td>\n",
       "      <td>Yes</td>\n",
       "      <td>More than 2 hours</td>\n",
       "    </tr>\n",
       "    <tr>\n",
       "      <th>...</th>\n",
       "      <td>...</td>\n",
       "      <td>...</td>\n",
       "      <td>...</td>\n",
       "      <td>...</td>\n",
       "      <td>...</td>\n",
       "      <td>...</td>\n",
       "      <td>...</td>\n",
       "      <td>...</td>\n",
       "    </tr>\n",
       "    <tr>\n",
       "      <th>233</th>\n",
       "      <td>18 - 22 years</td>\n",
       "      <td>Male</td>\n",
       "      <td>6 - 9</td>\n",
       "      <td>L 400</td>\n",
       "      <td>4.0 - 3.6</td>\n",
       "      <td>Yes</td>\n",
       "      <td>Yes</td>\n",
       "      <td>More than 2 hours</td>\n",
       "    </tr>\n",
       "    <tr>\n",
       "      <th>234</th>\n",
       "      <td>18 - 22 years</td>\n",
       "      <td>Male</td>\n",
       "      <td>6 - 9</td>\n",
       "      <td>L 300</td>\n",
       "      <td>Below 1.5</td>\n",
       "      <td>Maybe</td>\n",
       "      <td>No</td>\n",
       "      <td>More than 2 hours</td>\n",
       "    </tr>\n",
       "    <tr>\n",
       "      <th>235</th>\n",
       "      <td>More than 32 years</td>\n",
       "      <td>Female</td>\n",
       "      <td>Above 30</td>\n",
       "      <td>L 300</td>\n",
       "      <td>Below 1.5</td>\n",
       "      <td>No</td>\n",
       "      <td>Yes</td>\n",
       "      <td>Less than 2 hours</td>\n",
       "    </tr>\n",
       "    <tr>\n",
       "      <th>236</th>\n",
       "      <td>18 - 22 years</td>\n",
       "      <td>Female</td>\n",
       "      <td>16 - 20</td>\n",
       "      <td>L 300</td>\n",
       "      <td>3.5 - 3.0</td>\n",
       "      <td>Yes</td>\n",
       "      <td>Yes</td>\n",
       "      <td>More than 2 hours</td>\n",
       "    </tr>\n",
       "    <tr>\n",
       "      <th>237</th>\n",
       "      <td>23 - 27 years</td>\n",
       "      <td>Male</td>\n",
       "      <td>6 - 9</td>\n",
       "      <td>L 400</td>\n",
       "      <td>3.5 - 3.0</td>\n",
       "      <td>Yes</td>\n",
       "      <td>Yes</td>\n",
       "      <td>Exactly 2 hours</td>\n",
       "    </tr>\n",
       "  </tbody>\n",
       "</table>\n",
       "<p>238 rows × 8 columns</p>\n",
       "</div>"
      ],
      "text/plain": [
       "                    Age  Gender wassce grade  level current CGPA  \\\n",
       "0         23 - 27 years    Male      16 - 20  L 400    2.9 - 2.5   \n",
       "1         23 - 27 years    Male        6 - 9  L 400    1.9 - 1.5   \n",
       "2         23 - 27 years    Male      10 - 15  L 400    3.5 - 3.0   \n",
       "3         23 - 27 years  Female      10 - 15  L 400    2.9 - 2.5   \n",
       "4         23 - 27 years  Female      10 - 15  L 400    2.9 - 2.5   \n",
       "..                  ...     ...          ...    ...          ...   \n",
       "233       18 - 22 years    Male        6 - 9  L 400    4.0 - 3.6   \n",
       "234       18 - 22 years    Male        6 - 9  L 300    Below 1.5   \n",
       "235  More than 32 years  Female     Above 30  L 300    Below 1.5   \n",
       "236       18 - 22 years  Female      16 - 20  L 300    3.5 - 3.0   \n",
       "237       23 - 27 years    Male        6 - 9  L 400    3.5 - 3.0   \n",
       "\n",
       "    access to a laptop or internet study group  \\\n",
       "0                              Yes         Yes   \n",
       "1                              Yes         Yes   \n",
       "2                              Yes         Yes   \n",
       "3                              Yes         Yes   \n",
       "4                              Yes         Yes   \n",
       "..                             ...         ...   \n",
       "233                            Yes         Yes   \n",
       "234                          Maybe          No   \n",
       "235                             No         Yes   \n",
       "236                            Yes         Yes   \n",
       "237                            Yes         Yes   \n",
       "\n",
       "    time spent on independent studies  \n",
       "0                   More than 2 hours  \n",
       "1                   More than 2 hours  \n",
       "2                   Less than 2 hours  \n",
       "3                   More than 2 hours  \n",
       "4                   More than 2 hours  \n",
       "..                                ...  \n",
       "233                 More than 2 hours  \n",
       "234                 More than 2 hours  \n",
       "235                 Less than 2 hours  \n",
       "236                 More than 2 hours  \n",
       "237                   Exactly 2 hours  \n",
       "\n",
       "[238 rows x 8 columns]"
      ]
     },
     "execution_count": 6,
     "metadata": {},
     "output_type": "execute_result"
    }
   ],
   "source": [
    "df = pd.read_csv('./output/cleaned_data.csv')\n",
    "df"
   ]
  },
  {
   "cell_type": "markdown",
   "id": "e581ed72-dffa-4f9b-9dde-bd44c367aa1e",
   "metadata": {},
   "source": [
    "## we are going to transform all our categorical data to proper format to be fed to our machine learning algorithms\n",
    "* We preprocess our data with the LabelEncoder from sklearn"
   ]
  },
  {
   "cell_type": "markdown",
   "id": "6b0d8c27-18a8-4c0d-ab87-e84e562e1e53",
   "metadata": {},
   "source": [
    "#### Preprocessing our independent variable x"
   ]
  },
  {
   "cell_type": "code",
   "execution_count": 7,
   "id": "f5c3cb36-dcf0-412b-ab3e-150f62a2d925",
   "metadata": {},
   "outputs": [],
   "source": [
    "y= df[[\"current CGPA\"]].values\n",
    "x =df[[\"Age\",\"Gender\",\"wassce grade\",\"level\",\"access to a laptop or internet\",\"study group\",\"time spent on independent studies\"]].values"
   ]
  },
  {
   "cell_type": "code",
   "execution_count": 8,
   "id": "5e9f2e4c-8c50-497c-b0e7-6e8d61690ae7",
   "metadata": {},
   "outputs": [],
   "source": [
    "from sklearn.preprocessing import LabelEncoder\n",
    "label_encoder_x = LabelEncoder()\n",
    "x[:,0] =label_encoder_x.fit_transform(x[:,0])\n",
    "x[:,1] =label_encoder_x.fit_transform(x[:,1])\n",
    "x[:,2] =label_encoder_x.fit_transform(x[:,2])\n",
    "x[:,3] =label_encoder_x.fit_transform(x[:,3])\n",
    "x[:,4] =label_encoder_x.fit_transform(x[:,4])\n",
    "x[:,5] =label_encoder_x.fit_transform(x[:,5])\n",
    "x[:,6] =label_encoder_x.fit_transform(x[:,6])"
   ]
  },
  {
   "cell_type": "markdown",
   "id": "2825e4d6-570e-4572-b17e-7b54b4e882c6",
   "metadata": {},
   "source": [
    "#### Preocessing our dependent variable y"
   ]
  },
  {
   "cell_type": "code",
   "execution_count": 9,
   "id": "5f70cc31-4733-4f79-baad-83926ba73327",
   "metadata": {},
   "outputs": [],
   "source": [
    "y[:,0] =label_encoder_x.fit_transform(y[:,0])\n",
    "# y"
   ]
  },
  {
   "cell_type": "markdown",
   "id": "af1b3295-3039-47f0-9458-16557ecbe4b7",
   "metadata": {},
   "source": [
    "# Lets start implementing our machine learning algorithms"
   ]
  },
  {
   "cell_type": "code",
   "execution_count": 10,
   "id": "b37b3b3d-08ce-43fd-a2d3-fe9c67a11235",
   "metadata": {},
   "outputs": [],
   "source": [
    "from sklearn.model_selection import train_test_split\n",
    "import pickle"
   ]
  },
  {
   "cell_type": "markdown",
   "id": "ce1a0851-6f54-4629-8f3e-8d6ececa6029",
   "metadata": {},
   "source": [
    "## Impleamenting the linear regression algorithm\n",
    "* we train our data 100 iterations \n",
    "* we pick the best result"
   ]
  },
  {
   "cell_type": "code",
   "execution_count": 12,
   "id": "4013cd92-43e1-497e-b6d9-9b96e2677e3a",
   "metadata": {},
   "outputs": [],
   "source": [
    "# import the linear regression module from sklearn\n",
    "best = 0\n",
    "for _ in range(100):\n",
    "    x_train,x_test,y_train,y_test=train_test_split(x,y,test_size=0.4)\n",
    "    from sklearn import linear_model\n",
    "    linear =linear_model.LinearRegression()\n",
    "    linear.fit(x_train,y_train)\n",
    "    linear_score = linear.score(x_test,y_test)\n",
    "    if linear_score > best:\n",
    "        best = linear_score\n",
    "        with open(\"./output/linearmodel.pickle\",\"wb\") as f:\n",
    "            pickle.dump(linear,f)"
   ]
  },
  {
   "cell_type": "markdown",
   "id": "7065d363-ca99-41ca-bec8-54854622ca40",
   "metadata": {},
   "source": [
    "#### saving linear regression model "
   ]
  },
  {
   "cell_type": "code",
   "execution_count": 13,
   "id": "088163e8-c550-432a-ae07-915588faa3ee",
   "metadata": {},
   "outputs": [],
   "source": [
    "pickle_in = open(\"./output/linearmodel.pickle\",\"rb\")\n",
    "linear = pickle.load(pickle_in)"
   ]
  },
  {
   "cell_type": "code",
   "execution_count": 17,
   "id": "beff62ee-f195-4cb6-97f8-8c4b0f89ece8",
   "metadata": {},
   "outputs": [
    {
     "name": "stdout",
     "output_type": "stream",
     "text": [
      "coeffitient:\n",
      " [[-0.01234105 -0.08503763  0.16844458 -0.00753245  0.05004587  0.31243237\n",
      "   0.10100223]]\n",
      "Intercept:\n",
      " [1.91858335]\n",
      "Variance score: 0.14841180931672093\n"
     ]
    }
   ],
   "source": [
    "# outputting more info about our linear regression model\n",
    "print('coeffitient:\\n',linear.coef_)\n",
    "print('Intercept:\\n',linear.intercept_)\n",
    "# variance score: 1 means perfect prediction\n",
    "print('Variance score: {}'.format(linear.score(x_test, y_test)))"
   ]
  },
  {
   "cell_type": "code",
   "execution_count": null,
   "id": "205d0bf3-d4b9-4b90-94c6-88015c5c6c80",
   "metadata": {},
   "outputs": [],
   "source": []
  }
 ],
 "metadata": {
  "kernelspec": {
   "display_name": "Python 3 (ipykernel)",
   "language": "python",
   "name": "python3"
  },
  "language_info": {
   "codemirror_mode": {
    "name": "ipython",
    "version": 3
   },
   "file_extension": ".py",
   "mimetype": "text/x-python",
   "name": "python",
   "nbconvert_exporter": "python",
   "pygments_lexer": "ipython3",
   "version": "3.9.13"
  }
 },
 "nbformat": 4,
 "nbformat_minor": 5
}
